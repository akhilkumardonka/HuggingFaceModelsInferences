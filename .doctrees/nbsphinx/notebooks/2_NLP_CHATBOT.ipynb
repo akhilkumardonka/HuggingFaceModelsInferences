{
 "cells": [
  {
   "cell_type": "markdown",
   "metadata": {
    "id": "Uq2Iy1WiNY9z"
   },
   "source": [
    "# Chatbot using meta's [blenderbot](https://huggingface.co/facebook/blenderbot-400M-distill)"
   ]
  },
  {
   "cell_type": "code",
   "execution_count": 1,
   "metadata": {
    "id": "_VxJVtAoNPOr"
   },
   "outputs": [],
   "source": [
    "from transformers.utils import logging\n",
    "logging.set_verbosity_error()\n",
    "\n",
    "from transformers import pipeline"
   ]
  },
  {
   "cell_type": "code",
   "execution_count": 4,
   "metadata": {
    "id": "3ni6yq1bL5-d"
   },
   "outputs": [],
   "source": [
    "# two arguments : nlp task and model to be used\n",
    "chatbot = pipeline(task=\"conversational\", model=\"facebook/blenderbot-400M-distill\")"
   ]
  },
  {
   "cell_type": "markdown",
   "metadata": {
    "id": "MXbKYcaPM-gE"
   },
   "source": [
    "Now lets check how responses are for generic questions as input"
   ]
  },
  {
   "cell_type": "code",
   "execution_count": 14,
   "metadata": {
    "id": "UiPoFyeXMI7D"
   },
   "outputs": [],
   "source": [
    "user_message = \"I am planning to buy a home. What factors should I look for considering I am having a family of 4 people with kids?\""
   ]
  },
  {
   "cell_type": "code",
   "execution_count": 15,
   "metadata": {
    "colab": {
     "base_uri": "https://localhost:8080/"
    },
    "id": "OW4HjBUJNzMs",
    "outputId": "a3d0dcab-e118-478f-87aa-ab5d0d36ba26"
   },
   "outputs": [
    {
     "name": "stdout",
     "output_type": "stream",
     "text": [
      "Conversation id: 708c0efd-15e4-4442-b01f-3de8530c1dd1\n",
      "user: I am planning to buy a home. What factors should I look for considering I am having a family of 4 people with kids?\n",
      "\n"
     ]
    }
   ],
   "source": [
    "# creating conversation object of user message\n",
    "from transformers import Conversation\n",
    "\n",
    "conversation = Conversation(user_message)\n",
    "print(conversation)"
   ]
  },
  {
   "cell_type": "code",
   "execution_count": 16,
   "metadata": {
    "colab": {
     "base_uri": "https://localhost:8080/"
    },
    "id": "0zghoIr6OQf7",
    "outputId": "be37cb01-a3e1-4805-87a0-e720b11524ef"
   },
   "outputs": [
    {
     "name": "stdout",
     "output_type": "stream",
     "text": [
      "Conversation id: 708c0efd-15e4-4442-b01f-3de8530c1dd1\n",
      "user: I am planning to buy a home. What factors should I look for considering I am having a family of 4 people with kids?\n",
      "assistant:  Well, if you are looking for a house with a big yard, you might want to look for a bigger house.\n",
      "\n"
     ]
    }
   ],
   "source": [
    "# starting conversation | model's forward pass\n",
    "conversation = chatbot(conversation)\n",
    "print(conversation)"
   ]
  },
  {
   "cell_type": "code",
   "execution_count": 17,
   "metadata": {
    "colab": {
     "base_uri": "https://localhost:8080/"
    },
    "id": "WKlkO33uOxK5",
    "outputId": "b5e5ee9f-774e-416d-e191-7a3b15044e64"
   },
   "outputs": [
    {
     "name": "stdout",
     "output_type": "stream",
     "text": [
      "Conversation id: 708c0efd-15e4-4442-b01f-3de8530c1dd1\n",
      "user: I am planning to buy a home. What factors should I look for considering I am having a family of 4 people with kids?\n",
      "assistant:  Well, if you are looking for a house with a big yard, you might want to look for a bigger house.\n",
      "user: Can you elaborate more on affordability?\n",
      "\n"
     ]
    }
   ],
   "source": [
    "# preparing conversation further | use \"add_message()\" property on conversion object\n",
    "conversation.add_message(\n",
    "    {\n",
    "        \"role\": \"user\",\n",
    "        \"content\": \"Can you elaborate more on affordability?\"\n",
    "    }\n",
    ")\n",
    "print(conversation)"
   ]
  },
  {
   "cell_type": "code",
   "execution_count": 18,
   "metadata": {
    "colab": {
     "base_uri": "https://localhost:8080/"
    },
    "id": "mn1b6XMYQMyY",
    "outputId": "7c64b6dc-41fa-432a-9641-3c13e640e10e"
   },
   "outputs": [
    {
     "name": "stdout",
     "output_type": "stream",
     "text": [
      "Conversation id: 708c0efd-15e4-4442-b01f-3de8530c1dd1\n",
      "user: I am planning to buy a home. What factors should I look for considering I am having a family of 4 people with kids?\n",
      "assistant:  Well, if you are looking for a house with a big yard, you might want to look for a bigger house.\n",
      "user: Can you elaborate more on affordability?\n",
      "assistant:  Well, it depends on how much you want to spend. If you want a big house, you will need a lot of money.\n",
      "\n"
     ]
    }
   ],
   "source": [
    "# continuing conversation | model's forward pass\n",
    "conversation = chatbot(conversation)\n",
    "print(conversation)"
   ]
  }
 ],
 "metadata": {
  "colab": {
   "provenance": []
  },
  "kernelspec": {
   "display_name": "Python 3",
   "name": "python3"
  },
  "language_info": {
   "name": "python"
  }
 },
 "nbformat": 4,
 "nbformat_minor": 0
}

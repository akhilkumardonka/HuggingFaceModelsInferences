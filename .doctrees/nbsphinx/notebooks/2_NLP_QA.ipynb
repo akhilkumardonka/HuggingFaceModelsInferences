{
 "cells": [
  {
   "cell_type": "markdown",
   "metadata": {
    "id": "BhPwnGenXrcj"
   },
   "source": [
    "# Open book information retreival (FAQ) using deepset's [roberta-base-squad2](https://huggingface.co/deepset/roberta-base-squad2)"
   ]
  },
  {
   "cell_type": "code",
   "execution_count": null,
   "metadata": {
    "id": "lQ5NBrDYXpIv"
   },
   "outputs": [],
   "source": [
    "from transformers import pipeline\n",
    "\n",
    "# preparing question answering pipline\n",
    "qa_model = pipeline(task=\"question-answering\", model=\"deepset/roberta-base-squad2\", tokenizer=\"deepset/roberta-base-squad2\")"
   ]
  },
  {
   "cell_type": "code",
   "execution_count": 5,
   "metadata": {
    "id": "uDofgZLRYgyh"
   },
   "outputs": [],
   "source": [
    "# create knowledge base for the Q/A Chatbot\n",
    "context = \"Delhi is the capital of India and Raipur is the capital of Chhattisgarh. Also my name is Akhil and I live in Bhilai which is in Chhattisgarh.\""
   ]
  },
  {
   "cell_type": "code",
   "execution_count": 11,
   "metadata": {
    "colab": {
     "base_uri": "https://localhost:8080/"
    },
    "id": "WTc6E1d7ZI-r",
    "outputId": "15856d30-ed64-4dbd-936f-5352951f391b"
   },
   "outputs": [
    {
     "name": "stdout",
     "output_type": "stream",
     "text": [
      "{'score': 0.8537025451660156, 'start': 109, 'end': 115, 'answer': 'Bhilai'}\n",
      "{'score': 0.8826863169670105, 'start': 89, 'end': 94, 'answer': 'Akhil'}\n",
      "{'score': 0.7242138981819153, 'start': 89, 'end': 94, 'answer': 'Akhil'}\n"
     ]
    }
   ],
   "source": [
    "# lets ask model with above context as knowledge base\n",
    "question = \"Where do I live?\"\n",
    "response = qa_model(question = question, context = context)\n",
    "print(response)\n",
    "\n",
    "question = \"Who lives in Bhilai?\"\n",
    "response = qa_model(question = question, context = context)\n",
    "print(response)\n",
    "\n",
    "question = \"Whose residence is in Bhilai?\"\n",
    "response = qa_model(question = question, context = context)\n",
    "print(response)"
   ]
  },
  {
   "cell_type": "code",
   "execution_count": 6,
   "metadata": {
    "colab": {
     "base_uri": "https://localhost:8080/"
    },
    "id": "3oin-JzbZQTJ",
    "outputId": "7d225d38-99b5-4554-c321-4fcba9ee7237"
   },
   "outputs": [
    {
     "name": "stdout",
     "output_type": "stream",
     "text": [
      "{'score': 0.9354609251022339, 'start': 0, 'end': 5, 'answer': 'Delhi'}\n"
     ]
    }
   ],
   "source": [
    "# lets ask another question\n",
    "question = \"Which place is the capital of India?\"\n",
    "response = qa_model(question = question, context = context)\n",
    "print(response)"
   ]
  },
  {
   "cell_type": "code",
   "execution_count": 9,
   "metadata": {
    "colab": {
     "base_uri": "https://localhost:8080/"
    },
    "id": "XGPJbL-mZmnK",
    "outputId": "bd8e5a7d-3aa1-4239-e16a-0bd34549182e"
   },
   "outputs": [
    {
     "name": "stdout",
     "output_type": "stream",
     "text": [
      "{'score': 0.9837254285812378, 'start': 34, 'end': 40, 'answer': 'Raipur'}\n",
      "{'score': 0.9862382411956787, 'start': 34, 'end': 40, 'answer': 'Raipur'}\n"
     ]
    }
   ],
   "source": [
    "# lets ask another question\n",
    "question = \"Which place is the capital of Chhattisgarh?\"\n",
    "response = qa_model(question = question, context = context)\n",
    "print(response)\n",
    "\n",
    "question = \"What is the capital of Chhattisgarh?\"\n",
    "response = qa_model(question = question, context = context)\n",
    "print(response)"
   ]
  }
 ],
 "metadata": {
  "colab": {
   "provenance": []
  },
  "kernelspec": {
   "display_name": "Python 3",
   "name": "python3"
  },
  "language_info": {
   "name": "python"
  }
 },
 "nbformat": 4,
 "nbformat_minor": 0
}
